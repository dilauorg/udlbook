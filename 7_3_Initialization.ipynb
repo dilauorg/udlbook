{
  "cells": [
    {
      "cell_type": "markdown",
      "metadata": {
        "id": "L6chybAVFJW2"
      },
      "source": [
        "# **Notebook 7.3: Initialization**\n",
        "\n",
        "This notebook explores weight initialization in deep neural networks as described in section 7.5 of the book.\n",
        "\n",
        "Work through the cells below, running each cell in turn. In various places you will see the words \"TO DO\". Follow the instructions at these places and make predictions about what is going to happen or write code to complete the functions.\n",
        "\n",
        "Contact me at udlbookmail@gmail.com if you find any mistakes or have any suggestions."
      ]
    },
    {
      "cell_type": "code",
      "execution_count": 67,
      "metadata": {
        "id": "LdIDglk1FFcG"
      },
      "outputs": [],
      "source": [
        "import numpy as np\n",
        "import matplotlib.pyplot as plt"
      ]
    },
    {
      "cell_type": "markdown",
      "metadata": {
        "id": "nnUoI0m6GyjC"
      },
      "source": [
        "First let's define a neural network.  We'll just choose the weights and biases randomly for now"
      ]
    },
    {
      "cell_type": "code",
      "execution_count": 68,
      "metadata": {
        "id": "WVM4Tc_jGI0Q"
      },
      "outputs": [],
      "source": [
        "def init_params(K, D, sigma_sq_omega):\n",
        "  # Set seed so we always get the same random numbers\n",
        "  np.random.seed(0)\n",
        "\n",
        "  # Input layer\n",
        "  D_i = 1\n",
        "  # Output layer\n",
        "  D_o = 1\n",
        "\n",
        "  # Make empty lists\n",
        "  all_weights = [None] * (K+1)\n",
        "  all_biases = [None] * (K+1)\n",
        "\n",
        "  # Create input and output layers\n",
        "  all_weights[0] = np.random.normal(size=(D, D_i))*np.sqrt(sigma_sq_omega)\n",
        "  all_weights[-1] = np.random.normal(size=(D_o, D)) * np.sqrt(sigma_sq_omega)\n",
        "  all_biases[0] = np.zeros((D,1))\n",
        "  all_biases[-1]= np.zeros((D_o,1))\n",
        "\n",
        "  # Create intermediate layers\n",
        "  for layer in range(1,K):\n",
        "    all_weights[layer] = np.random.normal(size=(D,D))*np.sqrt(sigma_sq_omega)\n",
        "    all_biases[layer] = np.zeros((D,1))\n",
        "\n",
        "  return all_weights, all_biases"
      ]
    },
    {
      "cell_type": "code",
      "execution_count": 69,
      "metadata": {
        "id": "jZh-7bPXIDq4"
      },
      "outputs": [],
      "source": [
        "# Define the Rectified Linear Unit (ReLU) function\n",
        "def ReLU(preactivation):\n",
        "  activation = preactivation.clip(0.0)\n",
        "  return activation"
      ]
    },
    {
      "cell_type": "code",
      "execution_count": 70,
      "metadata": {
        "id": "LgquJUJvJPaN"
      },
      "outputs": [],
      "source": [
        "def compute_network_output(net_input, all_weights, all_biases):\n",
        "\n",
        "  # Retrieve number of layers\n",
        "  K = len(all_weights)-1\n",
        "\n",
        "  # We'll store the pre-activations at each layer in a list \"all_f\"\n",
        "  # and the activations in a second list \"all_h\".\n",
        "  all_f = [None] * (K+1)\n",
        "  all_h = [None] * (K+1)\n",
        "\n",
        "  #For convenience, we'll set\n",
        "  # all_h[0] to be the input, and all_f[K] will be the output\n",
        "  all_h[0] = net_input\n",
        "\n",
        "  # Run through the layers, calculating all_f[0...K-1] and all_h[1...K]\n",
        "  for layer in range(K):\n",
        "      # Update preactivations and activations at this layer according to eqn 7.5\n",
        "      all_f[layer] = all_biases[layer] + np.matmul(all_weights[layer], all_h[layer])\n",
        "      all_h[layer+1] = ReLU(all_f[layer])\n",
        "\n",
        "  # Compute the output from the last hidden layer\n",
        "  all_f[K] = all_biases[K] + np.matmul(all_weights[K], all_h[K])\n",
        "\n",
        "  # Retrieve the output\n",
        "  net_output = all_f[K]\n",
        "\n",
        "  return net_output, all_f, all_h"
      ]
    },
    {
      "cell_type": "markdown",
      "metadata": {
        "id": "bIUrcXnOqChl"
      },
      "source": [
        "Now let's investigate how the size of the outputs vary as we change the initialization variance:\n"
      ]
    },
    {
      "cell_type": "code",
      "execution_count": 71,
      "metadata": {
        "colab": {
          "base_uri": "https://localhost:8080/"
        },
        "id": "A55z3rKBqO7M",
        "outputId": "c7d38a80-1dfd-445e-f1df-c0bd5486d3cc"
      },
      "outputs": [
        {
          "name": "stdout",
          "output_type": "stream",
          "text": [
            "Layer 1, std of hidden units = 0.811\n",
            "Layer 2, std of hidden units = 1.472\n",
            "Layer 3, std of hidden units = 4.547\n",
            "Layer 4, std of hidden units = 8.896\n",
            "Layer 5, std of hidden units = 10.106\n"
          ]
        }
      ],
      "source": [
        "# Number of layers\n",
        "K = 5\n",
        "# Number of neurons per layer\n",
        "D = 8\n",
        "# Input layer\n",
        "D_i = 1\n",
        "# Output layer\n",
        "D_o = 1\n",
        "# Set variance of initial weights to 1\n",
        "sigma_sq_omega = 1.0\n",
        "# Initialize parameters\n",
        "all_weights, all_biases = init_params(K,D,sigma_sq_omega)\n",
        "\n",
        "n_data = 1000\n",
        "data_in = np.random.normal(size=(1,n_data))\n",
        "net_output, all_f, all_h = compute_network_output(data_in, all_weights, all_biases)\n",
        "\n",
        "for layer in range(1,K+1):\n",
        "  print(\"Layer %d, std of hidden units = %3.3f\"%(layer, np.std(all_h[layer])))"
      ]
    },
    {
      "cell_type": "code",
      "execution_count": 72,
      "metadata": {
        "colab": {
          "base_uri": "https://localhost:8080/"
        },
        "id": "VL_SO4tar3DC",
        "outputId": "37b4014b-d4ca-4d9a-d65e-bc3de2f28878"
      },
      "outputs": [
        {
          "name": "stdout",
          "output_type": "stream",
          "text": [
            "Layer 0, std of hidden units = 0.981\n",
            "Layer 1, std of hidden units = 0.622\n",
            "Layer 2, std of hidden units = 3.108\n",
            "Layer 3, std of hidden units = 21.075\n",
            "Layer 4, std of hidden units = 161.638\n",
            "Layer 5, std of hidden units = 1125.582\n",
            "Layer 6, std of hidden units = 6319.072\n",
            "Layer 7, std of hidden units = 37275.665\n",
            "Layer 8, std of hidden units = 243387.814\n",
            "Layer 9, std of hidden units = 1339835.231\n",
            "Layer 10, std of hidden units = 7366234.399\n",
            "Layer 11, std of hidden units = 49006173.785\n",
            "Layer 12, std of hidden units = 272845366.658\n",
            "Layer 13, std of hidden units = 1682043584.115\n",
            "Layer 14, std of hidden units = 10666632256.715\n",
            "Layer 15, std of hidden units = 66098343304.232\n",
            "Layer 16, std of hidden units = 429669007251.536\n",
            "Layer 17, std of hidden units = 2889209957356.916\n",
            "Layer 18, std of hidden units = 19621779417283.500\n",
            "Layer 19, std of hidden units = 121787762396578.969\n",
            "Layer 20, std of hidden units = 999886829483868.875\n",
            "Layer 21, std of hidden units = 5334411928004679.000\n",
            "Layer 22, std of hidden units = 33827620837739412.000\n",
            "Layer 23, std of hidden units = 225444894681278176.000\n",
            "Layer 24, std of hidden units = 1627820610460267776.000\n",
            "Layer 25, std of hidden units = 11267764649765797888.000\n",
            "Layer 26, std of hidden units = 67624804921841573888.000\n",
            "Layer 27, std of hidden units = 364972590784171016192.000\n",
            "Layer 28, std of hidden units = 2240665662851632070656.000\n",
            "Layer 29, std of hidden units = 17591855121671590510592.000\n",
            "Layer 30, std of hidden units = 127571735900692099891200.000\n",
            "Layer 31, std of hidden units = 673191222755367401291776.000\n",
            "Layer 32, std of hidden units = 3013965906952738308096000.000\n",
            "Layer 33, std of hidden units = 18058080219374336341966848.000\n",
            "Layer 34, std of hidden units = 113844343088523883136942080.000\n",
            "Layer 35, std of hidden units = 743768651021983614777688064.000\n",
            "Layer 36, std of hidden units = 4212183983909334019905421312.000\n",
            "Layer 37, std of hidden units = 29165435896872114952769372160.000\n",
            "Layer 38, std of hidden units = 158335947919997755737983942656.000\n",
            "Layer 39, std of hidden units = 997715185910698111272413560832.000\n",
            "Layer 40, std of hidden units = 6426783972194130038049969537024.000\n",
            "Layer 41, std of hidden units = 43768309206637147921539531800576.000\n",
            "Layer 42, std of hidden units = 303487129329508551216341155053568.000\n",
            "Layer 43, std of hidden units = 1776138313453572474864744603320320.000\n",
            "Layer 44, std of hidden units = 11908465022449954960409252809670656.000\n",
            "Layer 45, std of hidden units = 89231570537681377058251182172012544.000\n",
            "Layer 46, std of hidden units = 537142295281509613087075230529093632.000\n",
            "Layer 47, std of hidden units = 3598219068834594188168289796459855872.000\n",
            "Layer 48, std of hidden units = 19195733181303612908140446019993206784.000\n",
            "Layer 49, std of hidden units = 112209168636519545406961012606813339648.000\n"
          ]
        }
      ],
      "source": [
        "# You can see that the values of the hidden units are increasing on average (the variance is across all hidden units at the layer\n",
        "# and the 1000 training examples\n",
        "\n",
        "# TO DO\n",
        "# Change this to 50 layers with 80 hidden units per layer\n",
        "# Number of layers\n",
        "K = 50\n",
        "# Number of neurons per layer\n",
        "D = 80\n",
        "  # Input layer\n",
        "D_i = 1\n",
        "# Output layer\n",
        "D_o = 1\n",
        "# Set variance of initial weights to 1\n",
        "sigma_sq_omega = 1.0\n",
        "# Initialize parameters\n",
        "all_weights, all_biases = init_params(K,D,sigma_sq_omega)\n",
        "\n",
        "n_data = 1000\n",
        "data_in = np.random.normal(size=(1,n_data))\n",
        "net_output, all_f, all_h = compute_network_output(data_in, all_weights, all_biases)\n",
        "\n",
        "for layer in range(K):\n",
        "  print(\"Layer %d, std of hidden units = %3.3f\"%(layer, np.std(all_h[layer])))\n"
      ]
    },
    {
      "cell_type": "code",
      "execution_count": 73,
      "metadata": {
        "colab": {
          "base_uri": "https://localhost:8080/"
        },
        "id": "duQuYI_7_pSd",
        "outputId": "e32ab294-4463-4bb8-86e7-676d8c96528f"
      },
      "outputs": [
        {
          "name": "stdout",
          "output_type": "stream",
          "text": [
            "Layer 0, std of hidden units = 0.981\n",
            "Layer 1, std of hidden units = 0.102\n",
            "Layer 2, std of hidden units = 0.084\n",
            "Layer 3, std of hidden units = 0.094\n",
            "Layer 4, std of hidden units = 0.118\n",
            "Layer 5, std of hidden units = 0.135\n",
            "Layer 6, std of hidden units = 0.124\n",
            "Layer 7, std of hidden units = 0.121\n",
            "Layer 8, std of hidden units = 0.129\n",
            "Layer 9, std of hidden units = 0.117\n",
            "Layer 10, std of hidden units = 0.106\n",
            "Layer 11, std of hidden units = 0.116\n",
            "Layer 12, std of hidden units = 0.106\n",
            "Layer 13, std of hidden units = 0.107\n",
            "Layer 14, std of hidden units = 0.112\n",
            "Layer 15, std of hidden units = 0.114\n",
            "Layer 16, std of hidden units = 0.121\n",
            "Layer 17, std of hidden units = 0.134\n",
            "Layer 18, std of hidden units = 0.150\n",
            "Layer 19, std of hidden units = 0.153\n",
            "Layer 20, std of hidden units = 0.206\n",
            "Layer 21, std of hidden units = 0.180\n",
            "Layer 22, std of hidden units = 0.188\n",
            "Layer 23, std of hidden units = 0.206\n",
            "Layer 24, std of hidden units = 0.244\n",
            "Layer 25, std of hidden units = 0.278\n",
            "Layer 26, std of hidden units = 0.274\n",
            "Layer 27, std of hidden units = 0.243\n",
            "Layer 28, std of hidden units = 0.245\n",
            "Layer 29, std of hidden units = 0.316\n",
            "Layer 30, std of hidden units = 0.377\n",
            "Layer 31, std of hidden units = 0.327\n",
            "Layer 32, std of hidden units = 0.240\n",
            "Layer 33, std of hidden units = 0.237\n",
            "Layer 34, std of hidden units = 0.245\n",
            "Layer 35, std of hidden units = 0.263\n",
            "Layer 36, std of hidden units = 0.245\n",
            "Layer 37, std of hidden units = 0.279\n",
            "Layer 38, std of hidden units = 0.249\n",
            "Layer 39, std of hidden units = 0.257\n",
            "Layer 40, std of hidden units = 0.272\n",
            "Layer 41, std of hidden units = 0.305\n",
            "Layer 42, std of hidden units = 0.347\n",
            "Layer 43, std of hidden units = 0.334\n",
            "Layer 44, std of hidden units = 0.368\n",
            "Layer 45, std of hidden units = 0.453\n",
            "Layer 46, std of hidden units = 0.448\n",
            "Layer 47, std of hidden units = 0.493\n",
            "Layer 48, std of hidden units = 0.432\n",
            "Layer 49, std of hidden units = 0.415\n"
          ]
        }
      ],
      "source": [
        "# TO DO\n",
        "# Now experiment with sigma_sq_omega to try to stop the variance of the forward computation exploding\n",
        "\n",
        "# Number of layers\n",
        "K = 50\n",
        "# Number of neurons per layer\n",
        "D = 80\n",
        "  # Input layer\n",
        "D_i = 1\n",
        "# Output layer\n",
        "D_o = 1\n",
        "# Set variance of initial weights to 1\n",
        "sigma_sq_omega = 0.027\n",
        "# Initialize parameters\n",
        "all_weights, all_biases = init_params(K,D,sigma_sq_omega)\n",
        "\n",
        "n_data = 1000\n",
        "data_in = np.random.normal(size=(1,n_data))\n",
        "net_output, all_f, all_h = compute_network_output(data_in, all_weights, all_biases)\n",
        "\n",
        "for layer in range(K):\n",
        "  print(\"Layer %d, std of hidden units = %3.3f\"%(layer, np.std(all_h[layer])))\n"
      ]
    },
    {
      "cell_type": "markdown",
      "metadata": {
        "id": "SxVTKp3IcoBF"
      },
      "source": [
        "Now let's define a loss function.  We'll just use the least squares loss function. We'll also write a function to compute dloss_doutput\n"
      ]
    },
    {
      "cell_type": "code",
      "execution_count": 74,
      "metadata": {
        "id": "6XqWSYWJdhQR"
      },
      "outputs": [],
      "source": [
        "def least_squares_loss(net_output, y):\n",
        "  return np.sum((net_output-y) * (net_output-y))\n",
        "\n",
        "def d_loss_d_output(net_output, y):\n",
        "    return 2*(net_output -y);"
      ]
    },
    {
      "cell_type": "markdown",
      "metadata": {
        "id": "98WmyqFYWA-0"
      },
      "source": [
        "Here's the code for the backward pass"
      ]
    },
    {
      "cell_type": "code",
      "execution_count": 75,
      "metadata": {
        "id": "LJng7WpRPLMz"
      },
      "outputs": [],
      "source": [
        "# We'll need the indicator function\n",
        "def indicator_function(x):\n",
        "  x_in = np.array(x)\n",
        "  x_in[x_in>=0] = 1\n",
        "  x_in[x_in<0] = 0\n",
        "  return x_in\n",
        "\n",
        "# Main backward pass routine\n",
        "def backward_pass(all_weights, all_biases, all_f, all_h, y):\n",
        "  # Retrieve number of layers\n",
        "  K = all_weights\n",
        "\n",
        "  # We'll store the derivatives dl_dweights and dl_dbiases in lists as well\n",
        "  all_dl_dweights = [None] * (K+1)\n",
        "  all_dl_dbiases = [None] * (K+1)\n",
        "  # And we'll store the derivatives of the loss with respect to the activation and preactivations in lists\n",
        "  all_dl_df = [None] * (K+1)\n",
        "  all_dl_dh = [None] * (K+1)\n",
        "  # Again for convenience we'll stick with the convention that all_h[0] is the net input and all_f[k] in the net output\n",
        "\n",
        "  # Compute derivatives of net output with respect to loss\n",
        "  all_dl_df[K] = np.array(d_loss_d_output(all_f[K],y))\n",
        "\n",
        "  # Now work backwards through the network\n",
        "  for layer in range(K,-1,-1):\n",
        "    # Calculate the derivatives of biases at layer from all_dl_df[K]. (eq 7.13, line 1)\n",
        "    all_dl_dbiases[layer] = np.array(all_dl_df[layer])\n",
        "    # Calculate the derivatives of weight at layer from all_dl_df[K] and all_h[K] (eq 7.13, line 2)\n",
        "    all_dl_dweights[layer] = np.matmul(all_dl_df[layer], all_h[layer].transpose())\n",
        "\n",
        "    # Calculate the derivatives of activations from weight and derivatives of next preactivations (eq 7.13, line 3 second part)\n",
        "    all_dl_dh[layer] = np.matmul(all_weights[layer].transpose(), all_dl_df[layer])\n",
        "    # Calculate the derivatives of the pre-activation f with respect to activation h (eq 7.13, line 3, first part)\n",
        "    if layer > 0:\n",
        "      all_dl_df[layer-1] = indicator_function(all_f[layer-1]) * all_dl_dh[layer]\n",
        "\n",
        "  return all_dl_dweights, all_dl_dbiases, all_dl_dh, all_dl_df"
      ]
    },
    {
      "cell_type": "markdown",
      "metadata": {
        "id": "phFnbthqwhFi"
      },
      "source": [
        "Now let's look at what happens to the magnitude of the gradients on the way back."
      ]
    },
    {
      "cell_type": "code",
      "execution_count": 56,
      "metadata": {
        "colab": {
          "base_uri": "https://localhost:8080/",
          "height": 332
        },
        "id": "9A9MHc4sQvbp",
        "outputId": "034b9c29-daa8-475c-a985-38c4322474d4"
      },
      "outputs": [
        {
          "ename": "TypeError",
          "evalue": "can only concatenate list (not \"int\") to list",
          "output_type": "error",
          "traceback": [
            "\u001b[0;31m---------------------------------------------------------------------------\u001b[0m",
            "\u001b[0;31mTypeError\u001b[0m                                 Traceback (most recent call last)",
            "\u001b[0;32m<ipython-input-56-0c4105446fcb>\u001b[0m in \u001b[0;36m<cell line: 23>\u001b[0;34m()\u001b[0m\n\u001b[1;32m     25\u001b[0m   \u001b[0my\u001b[0m \u001b[0;34m=\u001b[0m \u001b[0mnp\u001b[0m\u001b[0;34m.\u001b[0m\u001b[0mzeros\u001b[0m\u001b[0;34m(\u001b[0m\u001b[0;34m(\u001b[0m\u001b[0;36m1\u001b[0m\u001b[0;34m,\u001b[0m\u001b[0;36m1\u001b[0m\u001b[0;34m)\u001b[0m\u001b[0;34m)\u001b[0m\u001b[0;34m\u001b[0m\u001b[0;34m\u001b[0m\u001b[0m\n\u001b[1;32m     26\u001b[0m   \u001b[0mnet_output\u001b[0m\u001b[0;34m,\u001b[0m \u001b[0mall_f\u001b[0m\u001b[0;34m,\u001b[0m \u001b[0mall_h\u001b[0m \u001b[0;34m=\u001b[0m \u001b[0mcompute_network_output\u001b[0m\u001b[0;34m(\u001b[0m\u001b[0mdata_in\u001b[0m\u001b[0;34m,\u001b[0m \u001b[0mall_weights\u001b[0m\u001b[0;34m,\u001b[0m \u001b[0mall_biases\u001b[0m\u001b[0;34m)\u001b[0m\u001b[0;34m\u001b[0m\u001b[0;34m\u001b[0m\u001b[0m\n\u001b[0;32m---> 27\u001b[0;31m   \u001b[0mall_dl_dweights\u001b[0m\u001b[0;34m,\u001b[0m \u001b[0mall_dl_dbiases\u001b[0m\u001b[0;34m,\u001b[0m \u001b[0mall_dl_dh\u001b[0m\u001b[0;34m,\u001b[0m \u001b[0mall_dl_df\u001b[0m \u001b[0;34m=\u001b[0m \u001b[0mbackward_pass\u001b[0m\u001b[0;34m(\u001b[0m\u001b[0mall_weights\u001b[0m\u001b[0;34m,\u001b[0m \u001b[0mall_biases\u001b[0m\u001b[0;34m,\u001b[0m \u001b[0mall_f\u001b[0m\u001b[0;34m,\u001b[0m \u001b[0mall_h\u001b[0m\u001b[0;34m,\u001b[0m \u001b[0my\u001b[0m\u001b[0;34m)\u001b[0m\u001b[0;34m\u001b[0m\u001b[0;34m\u001b[0m\u001b[0m\n\u001b[0m\u001b[1;32m     28\u001b[0m   \u001b[0;32mfor\u001b[0m \u001b[0mlayer\u001b[0m \u001b[0;32min\u001b[0m \u001b[0mrange\u001b[0m\u001b[0;34m(\u001b[0m\u001b[0;36m1\u001b[0m\u001b[0;34m,\u001b[0m\u001b[0mK\u001b[0m\u001b[0;34m)\u001b[0m\u001b[0;34m:\u001b[0m\u001b[0;34m\u001b[0m\u001b[0;34m\u001b[0m\u001b[0m\n\u001b[1;32m     29\u001b[0m     \u001b[0maggregate_dl_df\u001b[0m\u001b[0;34m[\u001b[0m\u001b[0mlayer\u001b[0m\u001b[0;34m]\u001b[0m\u001b[0;34m[\u001b[0m\u001b[0;34m:\u001b[0m\u001b[0;34m,\u001b[0m\u001b[0mc_data\u001b[0m\u001b[0;34m]\u001b[0m \u001b[0;34m=\u001b[0m \u001b[0mnp\u001b[0m\u001b[0;34m.\u001b[0m\u001b[0msqueeze\u001b[0m\u001b[0;34m(\u001b[0m\u001b[0mall_dl_df\u001b[0m\u001b[0;34m[\u001b[0m\u001b[0mlayer\u001b[0m\u001b[0;34m]\u001b[0m\u001b[0;34m)\u001b[0m\u001b[0;34m\u001b[0m\u001b[0;34m\u001b[0m\u001b[0m\n",
            "\u001b[0;32m<ipython-input-55-ffd4c09d8446>\u001b[0m in \u001b[0;36mbackward_pass\u001b[0;34m(all_weights, all_biases, all_f, all_h, y)\u001b[0m\n\u001b[1;32m     12\u001b[0m \u001b[0;34m\u001b[0m\u001b[0m\n\u001b[1;32m     13\u001b[0m   \u001b[0;31m# We'll store the derivatives dl_dweights and dl_dbiases in lists as well\u001b[0m\u001b[0;34m\u001b[0m\u001b[0;34m\u001b[0m\u001b[0m\n\u001b[0;32m---> 14\u001b[0;31m   \u001b[0mall_dl_dweights\u001b[0m \u001b[0;34m=\u001b[0m \u001b[0;34m[\u001b[0m\u001b[0;32mNone\u001b[0m\u001b[0;34m]\u001b[0m \u001b[0;34m*\u001b[0m \u001b[0;34m(\u001b[0m\u001b[0mK\u001b[0m\u001b[0;34m+\u001b[0m\u001b[0;36m1\u001b[0m\u001b[0;34m)\u001b[0m\u001b[0;34m\u001b[0m\u001b[0;34m\u001b[0m\u001b[0m\n\u001b[0m\u001b[1;32m     15\u001b[0m   \u001b[0mall_dl_dbiases\u001b[0m \u001b[0;34m=\u001b[0m \u001b[0;34m[\u001b[0m\u001b[0;32mNone\u001b[0m\u001b[0;34m]\u001b[0m \u001b[0;34m*\u001b[0m \u001b[0;34m(\u001b[0m\u001b[0mK\u001b[0m\u001b[0;34m+\u001b[0m\u001b[0;36m1\u001b[0m\u001b[0;34m)\u001b[0m\u001b[0;34m\u001b[0m\u001b[0;34m\u001b[0m\u001b[0m\n\u001b[1;32m     16\u001b[0m   \u001b[0;31m# And we'll store the derivatives of the loss with respect to the activation and preactivations in lists\u001b[0m\u001b[0;34m\u001b[0m\u001b[0;34m\u001b[0m\u001b[0m\n",
            "\u001b[0;31mTypeError\u001b[0m: can only concatenate list (not \"int\") to list"
          ]
        }
      ],
      "source": [
        "# Number of layers\n",
        "K = 5\n",
        "# Number of neurons per layer\n",
        "D = 8\n",
        "  # Input layer\n",
        "D_i = 1\n",
        "# Output layer\n",
        "D_o = 1\n",
        "# Set variance of initial weights to 1\n",
        "sigma_sq_omega = 1.0\n",
        "# Initialize parameters\n",
        "all_weights, all_biases = init_params(K,D,sigma_sq_omega)\n",
        "\n",
        "# For simplicity we'll just consider the gradients of the weights and biases between the first and last hidden layer\n",
        "n_data = 100\n",
        "aggregate_dl_df = [None] * (K+1)\n",
        "for layer in range(1,K):\n",
        "  # These 3D arrays will store the gradients for every data point\n",
        "  aggregate_dl_df[layer] = np.zeros((D,n_data))\n",
        "\n",
        "\n",
        "# We'll have to compute the derivatives of the parameters for each data point separately\n",
        "for c_data in range(n_data):\n",
        "  data_in = np.random.normal(size=(1,1))\n",
        "  y = np.zeros((1,1))\n",
        "  net_output, all_f, all_h = compute_network_output(data_in, all_weights, all_biases)\n",
        "  all_dl_dweights, all_dl_dbiases, all_dl_dh, all_dl_df = backward_pass(all_weights, all_biases, all_f, all_h, y)\n",
        "  for layer in range(1,K):\n",
        "    aggregate_dl_df[layer][:,c_data] = np.squeeze(all_dl_df[layer])\n",
        "\n",
        "for layer in range(1,K):\n",
        "  print(\"Layer %d, std of dl_dh = %3.3f\"%(layer, np.std(aggregate_dl_df[layer].ravel())))\n"
      ]
    },
    {
      "cell_type": "code",
      "execution_count": 76,
      "metadata": {
        "id": "gtokc0VX0839"
      },
      "outputs": [],
      "source": [
        "# You can see that the values of the hidden units are increasing on average (the variance is across all hidden units at the layer\n",
        "# and the 1000 training examples\n",
        "\n",
        "# TO DO\n",
        "# Change this to 50 layers with 80 hidden units per layer\n",
        "\n",
        "# TO DO\n",
        "# Now experiment with sigma_sq_omega to try to stop the variance of the gradients exploding\n"
      ]
    }
  ],
  "metadata": {
    "colab": {
      "provenance": []
    },
    "kernelspec": {
      "display_name": "Python 3",
      "name": "python3"
    },
    "language_info": {
      "name": "python"
    }
  },
  "nbformat": 4,
  "nbformat_minor": 0
}
